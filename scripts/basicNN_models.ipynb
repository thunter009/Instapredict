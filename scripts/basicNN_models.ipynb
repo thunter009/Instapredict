{
 "cells": [
  {
   "cell_type": "markdown",
   "metadata": {},
   "source": [
    "get instagram data and combine with image data"
   ]
  },
  {
   "cell_type": "code",
   "execution_count": 12,
   "metadata": {
    "collapsed": false
   },
   "outputs": [],
   "source": [
    "import pandas as pd\n",
    "from scrub import scrub\n",
    "\n",
    "im_path = '/Users/arianiherrera/Desktop/NYCDataScience/InstaPredict_Capstone/image_df.csv'\n",
    "insta_data_path = '/Users/arianiherrera/Downloads/insta.csv'\n",
    "\n",
    "# read in data frames\n",
    "image_df = pd.read_csv(im_path)\n",
    "insta_data = pd.read_csv(insta_data_path)\n",
    "\n",
    "# scrub insta_data data frame\n",
    "insta_df = scrub(insta_data)\n",
    "\n",
    "# combine to single data frame\n",
    "# insta_combined_df = pd.merge(image_df, insta_df, how = 'inner', left_on = 'image_key', right_on = 'photo_id')\n",
    "insta_combined_df = pd.merge(image_df, insta_data, how = 'inner', left_on = 'image_key', right_on = 'photo_id')\n"
   ]
  },
  {
   "cell_type": "markdown",
   "metadata": {},
   "source": [
    "Develop Baseline Neural Network"
   ]
  },
  {
   "cell_type": "code",
   "execution_count": 16,
   "metadata": {
    "collapsed": false
   },
   "outputs": [],
   "source": [
    "import numpy as np\n",
    "from keras.models import Sequential\n",
    "from keras.layers import Dense\n",
    "from keras.wrappers.scikit_learn import KerasRegressor\n",
    "from sklearn.cross_validation import cross_val_score\n",
    "from sklearn.cross_validation import KFold\n",
    "from sklearn.preprocessing import StandardScaler\n",
    "from sklearn.pipeline import Pipeline"
   ]
  },
  {
   "cell_type": "markdown",
   "metadata": {},
   "source": [
    "Set up baseline model"
   ]
  },
  {
   "cell_type": "code",
   "execution_count": 34,
   "metadata": {
    "collapsed": false
   },
   "outputs": [
    {
     "name": "stderr",
     "output_type": "stream",
     "text": [
      "/Users/arianiherrera/anaconda/lib/python2.7/site-packages/keras/legacy/interfaces.py:86: UserWarning: Update your `Dense` call to the Keras 2 API: `Dense(9, activation=\"relu\", kernel_initializer=\"normal\")`\n",
      "  '` call to the Keras 2 API: ' + signature)\n",
      "/Users/arianiherrera/anaconda/lib/python2.7/site-packages/keras/legacy/interfaces.py:86: UserWarning: Update your `Dense` call to the Keras 2 API: `Dense(3, activation=\"relu\", kernel_initializer=\"normal\")`\n",
      "  '` call to the Keras 2 API: ' + signature)\n"
     ]
    },
    {
     "name": "stdout",
     "output_type": "stream",
     "text": [
      "Epoch 1/10\n",
      "10s - loss: 75300.8519\n",
      "Epoch 2/10\n",
      "9s - loss: 73451.4657\n",
      "Epoch 3/10\n",
      "9s - loss: 73048.3472\n",
      "Epoch 4/10\n",
      "9s - loss: 72936.7672\n",
      "Epoch 5/10\n",
      "9s - loss: 72882.8788\n",
      "Epoch 6/10\n",
      "9s - loss: 72828.3326\n",
      "Epoch 7/10\n",
      "9s - loss: 72803.7724\n",
      "Epoch 8/10\n",
      "9s - loss: 72758.2906\n",
      "Epoch 9/10\n",
      "9s - loss: 72731.7409\n",
      "Epoch 10/10\n",
      "9s - loss: 72696.2621\n",
      "Epoch 1/10\n",
      "9s - loss: 217065.6776\n",
      "Epoch 2/10\n",
      "9s - loss: 215312.3983\n",
      "Epoch 3/10\n",
      "9s - loss: 214779.9990\n",
      "Epoch 4/10\n",
      "9s - loss: 214670.4142\n",
      "Epoch 5/10\n",
      "9s - loss: 214552.8323\n",
      "Epoch 6/10\n",
      "9s - loss: 214569.9854\n",
      "Epoch 7/10\n",
      "9s - loss: 214467.3402\n",
      "Epoch 8/10\n",
      "9s - loss: 214470.5336\n",
      "Epoch 9/10\n",
      "9s - loss: 214405.3054\n",
      "Epoch 10/10\n",
      "10s - loss: 214409.5913\n",
      "Epoch 1/10\n",
      "10s - loss: 220000.8286\n",
      "Epoch 2/10\n",
      "9s - loss: 218233.3465\n",
      "Epoch 3/10\n",
      "9s - loss: 217548.0444\n",
      "Epoch 4/10\n",
      "9s - loss: 217419.7745\n",
      "Epoch 5/10\n",
      "9s - loss: 217280.6789\n",
      "Epoch 6/10\n",
      "9s - loss: 217223.6424\n",
      "Epoch 7/10\n",
      "9s - loss: 217229.3120\n",
      "Epoch 8/10\n",
      "9s - loss: 217195.2207\n",
      "Epoch 9/10\n",
      "9s - loss: 217174.6726\n",
      "Epoch 10/10\n",
      "9s - loss: 217170.3503\n",
      "Epoch 1/10\n",
      "9s - loss: 218598.1418\n",
      "Epoch 2/10\n",
      "9s - loss: 216615.0549\n",
      "Epoch 3/10\n",
      "9s - loss: 216211.9222\n",
      "Epoch 4/10\n",
      "10s - loss: 216055.5810\n",
      "Epoch 5/10\n",
      "10s - loss: 215979.7859\n",
      "Epoch 6/10\n",
      "9s - loss: 215985.8137\n",
      "Epoch 7/10\n",
      "9s - loss: 215950.2773\n",
      "Epoch 8/10\n",
      "9s - loss: 215887.5672\n",
      "Epoch 9/10\n",
      "9s - loss: 215876.7995\n",
      "Epoch 10/10\n",
      "9s - loss: 215888.7056\n",
      "Epoch 1/10\n",
      "9s - loss: 225519.1056\n",
      "Epoch 2/10\n",
      "9s - loss: 223405.6252\n",
      "Epoch 3/10\n",
      "9s - loss: 222684.8551\n",
      "Epoch 4/10\n",
      "9s - loss: 222137.8654\n",
      "Epoch 5/10\n",
      "9s - loss: 221934.1394\n",
      "Epoch 6/10\n",
      "9s - loss: 221890.1072\n",
      "Epoch 7/10\n",
      "9s - loss: 221835.8106\n",
      "Epoch 8/10\n",
      "9s - loss: 221756.8209\n",
      "Epoch 9/10\n",
      "9s - loss: 221773.6722\n",
      "Epoch 10/10\n",
      "9s - loss: 221737.5171\n",
      "Standardized Results: 188732.72 (231650.47) MSE\n"
     ]
    }
   ],
   "source": [
    "# split into input and output variables\n",
    "\n",
    "# using photo features only until full set of features is complete\n",
    "X = image_df\n",
    "y = insta_combined_df[['likes']]\n",
    "\n",
    "# create baseline model\n",
    "def baseline_model():\n",
    "    \n",
    "    model = Sequential()\n",
    "    model.add(Dense(27, input_dim = 27, init='normal', activation='relu'))\n",
    "    model.add(Dense(1, init='normal'))\n",
    "    model.compile(loss='mean_squared_error', optimizer='adam')\n",
    "    \n",
    "    return model\n",
    "# Standardized Results: 188632.41 (231428.25) MSE\n",
    "\n",
    "\n",
    "# model with more depth\n",
    "def deeper_model():\n",
    "    \n",
    "    model = Sequential()\n",
    "    model.add(Dense(27, input_dim = 27, init='normal', activation='relu'))\n",
    "    model.add(Dense(9, init='normal', activation='relu'))\n",
    "    model.add(Dense(3, init='normal', activation='relu'))\n",
    "    model.add(Dense(1, init='normal'))\n",
    "    model.compile(loss='mean_squared_error', optimizer='adam')\n",
    "    \n",
    "    return model\n",
    "# Standardized Results: 188732.72 (231650.47) MSE\n",
    "\n",
    "# model with more width\n",
    "def wider_model():\n",
    "    \n",
    "    model = Sequential()\n",
    "    model.add(Dense(40, input_dim = 27, init='normal', activation='relu'))\n",
    "    model.add(Dense(1, init='normal'))\n",
    "    model.compile(loss='mean_squared_error', optimizer='adam')\n",
    "    \n",
    "    return model\n",
    "# Standardized Results: 188600.85 (231454.54) MSE    \n",
    "    \n",
    "    \n",
    "# fix random seed\n",
    "seed = 0\n",
    "np.random.seed(seed)\n",
    "\n",
    "# create estimators with standardized data set\n",
    "estimators = []\n",
    "estimators.append(('standardize', StandardScaler()))\n",
    "estimators.append(('mlp', KerasRegressor(build_fn=deeper_model, nb_epoch = 50, batch_size = 5, verbose=2)))\n",
    "\n",
    "# perform 10-fold cross validation using pipeline to ensure that there is no data leakage\n",
    "# in order to evaluate model\n",
    "pipeline = Pipeline(estimators)\n",
    "kfold = KFold(n=X.shape[0], n_folds=5, shuffle = True, random_state = seed)\n",
    "results = cross_val_score(pipeline, X.as_matrix(), y.as_matrix(), cv=kfold)\n",
    "print(\"Standardized Results: %.2f (%.2f) MSE\" % (results.mean(), results.std()))"
   ]
  },
  {
   "cell_type": "code",
   "execution_count": 28,
   "metadata": {
    "collapsed": false
   },
   "outputs": [
    {
     "data": {
      "text/plain": [
       "(15000, 1)"
      ]
     },
     "execution_count": 28,
     "metadata": {},
     "output_type": "execute_result"
    }
   ],
   "source": [
    "y.shape\n"
   ]
  },
  {
   "cell_type": "code",
   "execution_count": 22,
   "metadata": {
    "collapsed": false
   },
   "outputs": [
    {
     "data": {
      "text/plain": [
       "array([640, 480, 320, 612])"
      ]
     },
     "execution_count": 22,
     "metadata": {},
     "output_type": "execute_result"
    }
   ],
   "source": []
  },
  {
   "cell_type": "code",
   "execution_count": null,
   "metadata": {
    "collapsed": true
   },
   "outputs": [],
   "source": []
  }
 ],
 "metadata": {
  "kernelspec": {
   "display_name": "Python [conda root]",
   "language": "python",
   "name": "conda-root-py"
  },
  "language_info": {
   "codemirror_mode": {
    "name": "ipython",
    "version": 2
   },
   "file_extension": ".py",
   "mimetype": "text/x-python",
   "name": "python",
   "nbconvert_exporter": "python",
   "pygments_lexer": "ipython2",
   "version": "2.7.12"
  }
 },
 "nbformat": 4,
 "nbformat_minor": 1
}
