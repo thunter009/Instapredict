{
 "cells": [
  {
   "cell_type": "markdown",
   "metadata": {},
   "source": [
    "get instagram data and combine with image data"
   ]
  },
  {
   "cell_type": "code",
   "execution_count": 12,
   "metadata": {
    "collapsed": false
   },
   "outputs": [],
   "source": [
    "import pandas as pd\n",
    "from scrub import scrub\n",
    "\n",
    "im_path = '/Users/arianiherrera/Desktop/NYCDataScience/InstaPredict_Capstone/image_df.csv'\n",
    "insta_data_path = '/Users/arianiherrera/Downloads/insta.csv'\n",
    "\n",
    "# read in data frames\n",
    "image_df = pd.read_csv(im_path)\n",
    "insta_data = pd.read_csv(insta_data_path)\n",
    "\n",
    "# scrub insta_data data frame\n",
    "insta_df = scrub(insta_data)\n",
    "\n",
    "# combine to single data frame\n",
    "# insta_combined_df = pd.merge(image_df, insta_df, how = 'inner', left_on = 'image_key', right_on = 'photo_id')\n",
    "insta_combined_df = pd.merge(image_df, insta_data, how = 'inner', left_on = 'image_key', right_on = 'photo_id')\n"
   ]
  },
  {
   "cell_type": "markdown",
   "metadata": {},
   "source": [
    "Develop Baseline Neural Network"
   ]
  },
  {
   "cell_type": "code",
   "execution_count": 16,
   "metadata": {
    "collapsed": false
   },
   "outputs": [],
   "source": [
    "import numpy as np\n",
    "from keras.models import Sequential\n",
    "from keras.layers import Dense\n",
    "from keras.wrappers.scikit_learn import KerasRegressor\n",
    "from sklearn.cross_validation import cross_val_score\n",
    "from sklearn.cross_validation import KFold\n",
    "from sklearn.preprocessing import StandardScaler\n",
    "from sklearn.pipeline import Pipeline"
   ]
  },
  {
   "cell_type": "markdown",
   "metadata": {},
   "source": [
    "Set up baseline model"
   ]
  },
  {
   "cell_type": "code",
   "execution_count": 32,
   "metadata": {
    "collapsed": false
   },
   "outputs": [
    {
     "name": "stdout",
     "output_type": "stream",
     "text": [
      "Epoch 1/10\n",
      "6s - loss: 76724.9890\n",
      "Epoch 2/10\n",
      "6s - loss: 74785.0653\n",
      "Epoch 3/10\n",
      "6s - loss: 74156.5983\n",
      "Epoch 4/10\n",
      "6s - loss: 73624.7565\n",
      "Epoch 5/10\n",
      "6s - loss: 73280.9160\n",
      "Epoch 6/10\n",
      "6s - loss: 73096.8444\n",
      "Epoch 7/10\n",
      "6s - loss: 72975.7386\n",
      "Epoch 8/10\n",
      "6s - loss: 72947.0679\n",
      "Epoch 9/10\n",
      "6s - loss: 72896.9718\n",
      "Epoch 10/10\n",
      "6s - loss: 72876.6974\n",
      "Epoch 1/10\n",
      "6s - loss: 218300.4510\n",
      "Epoch 2/10\n",
      "6s - loss: 216305.7458\n",
      "Epoch 3/10\n",
      "6s - loss: 215792.6567\n",
      "Epoch 4/10\n",
      "6s - loss: 215371.3706\n",
      "Epoch 5/10\n",
      "6s - loss: 215047.4351\n",
      "Epoch 6/10\n",
      "6s - loss: 214817.0536\n",
      "Epoch 7/10\n",
      "6s - loss: 214679.2403\n",
      "Epoch 8/10\n",
      "6s - loss: 214575.5543\n",
      "Epoch 9/10\n",
      "6s - loss: 214538.7957\n",
      "Epoch 10/10\n",
      "6s - loss: 214507.4531\n",
      "Epoch 1/10\n",
      "7s - loss: 221632.1309\n",
      "Epoch 2/10\n",
      "6s - loss: 219223.8916\n",
      "Epoch 3/10\n",
      "7s - loss: 218656.4368\n",
      "Epoch 4/10\n",
      "6s - loss: 218173.7219\n",
      "Epoch 5/10\n",
      "6s - loss: 217817.0505\n",
      "Epoch 6/10\n",
      "6s - loss: 217566.3356\n",
      "Epoch 7/10\n",
      "6s - loss: 217402.0728\n",
      "Epoch 8/10\n",
      "6s - loss: 217284.2559\n",
      "Epoch 9/10\n",
      "6s - loss: 217203.0783\n",
      "Epoch 10/10\n",
      "6s - loss: 217195.1918\n",
      "Epoch 1/10\n",
      "6s - loss: 220223.7431\n",
      "Epoch 2/10\n",
      "6s - loss: 218087.2663\n",
      "Epoch 3/10\n",
      "6s - loss: 217544.1199\n",
      "Epoch 4/10\n",
      "6s - loss: 217074.6844\n",
      "Epoch 5/10\n",
      "6s - loss: 216647.4758\n",
      "Epoch 6/10\n",
      "6s - loss: 216347.5190\n",
      "Epoch 7/10\n",
      "6s - loss: 216121.9421\n",
      "Epoch 8/10\n",
      "6s - loss: 216040.9289\n",
      "Epoch 9/10\n",
      "6s - loss: 215962.7723\n",
      "Epoch 10/10\n",
      "6s - loss: 215915.8890\n",
      "Epoch 1/10\n",
      "6s - loss: 226655.0629\n",
      "Epoch 2/10\n",
      "6s - loss: 224065.1974\n",
      "Epoch 3/10\n",
      "6s - loss: 223481.1299\n",
      "Epoch 4/10\n",
      "6s - loss: 222991.5955\n",
      "Epoch 5/10\n",
      "6s - loss: 222554.3063\n",
      "Epoch 6/10\n",
      "7s - loss: 222279.0852\n",
      "Epoch 7/10\n",
      "7s - loss: 222094.8610\n",
      "Epoch 8/10\n",
      "6s - loss: 221965.4512\n",
      "Epoch 9/10\n",
      "6s - loss: 221892.1137\n",
      "Epoch 10/10\n",
      "6s - loss: 221869.0445\n",
      "Standardized Results: 188632.41 (231428.25) MSE\n"
     ]
    }
   ],
   "source": [
    "# split into input and output variables\n",
    "\n",
    "# using photo features only until full set of features is complete\n",
    "X = image_df\n",
    "y = insta_combined_df[['likes']]\n",
    "\n",
    "# create baseline model\n",
    "def baseline_model():\n",
    "    \n",
    "    model = Sequential()\n",
    "    model.add(Dense(27, input_dim = 27, init='normal', activation='relu'))\n",
    "    model.add(Dense(1, init='normal'))\n",
    "    model.compile(loss='mean_squared_error', optimizer='adam')\n",
    "    \n",
    "    return model\n",
    "\n",
    "# fix random seed\n",
    "seed = 0\n",
    "np.random.seed(seed)\n",
    "\n",
    "# create estimators with standardized data set\n",
    "estimators = []\n",
    "estimators.append(('standardize', StandardScaler()))\n",
    "estimators.append(('mlp', KerasRegressor(build_fn=baseline_model, nb_epoch = 50, batch_size = 5, verbose=2)))\n",
    "\n",
    "# perform 10-fold cross validation using pipeline to ensure that there is no data leakage\n",
    "# in order to evaluate model\n",
    "pipeline = Pipeline(estimators)\n",
    "kfold = KFold(n=X.shape[0], n_folds=5, shuffle = True, random_state = seed)\n",
    "results = cross_val_score(pipeline, X.as_matrix(), y.as_matrix(), cv=kfold)\n",
    "print(\"Standardized Results: %.2f (%.2f) MSE\" % (results.mean(), results.std()))"
   ]
  },
  {
   "cell_type": "code",
   "execution_count": 28,
   "metadata": {
    "collapsed": false
   },
   "outputs": [
    {
     "data": {
      "text/plain": [
       "(15000, 1)"
      ]
     },
     "execution_count": 28,
     "metadata": {},
     "output_type": "execute_result"
    }
   ],
   "source": [
    "y.shape\n"
   ]
  },
  {
   "cell_type": "code",
   "execution_count": 22,
   "metadata": {
    "collapsed": false
   },
   "outputs": [
    {
     "data": {
      "text/plain": [
       "array([640, 480, 320, 612])"
      ]
     },
     "execution_count": 22,
     "metadata": {},
     "output_type": "execute_result"
    }
   ],
   "source": []
  },
  {
   "cell_type": "code",
   "execution_count": null,
   "metadata": {
    "collapsed": true
   },
   "outputs": [],
   "source": []
  }
 ],
 "metadata": {
  "kernelspec": {
   "display_name": "Python [conda root]",
   "language": "python",
   "name": "conda-root-py"
  },
  "language_info": {
   "codemirror_mode": {
    "name": "ipython",
    "version": 2
   },
   "file_extension": ".py",
   "mimetype": "text/x-python",
   "name": "python",
   "nbconvert_exporter": "python",
   "pygments_lexer": "ipython2",
   "version": "2.7.12"
  }
 },
 "nbformat": 4,
 "nbformat_minor": 1
}
