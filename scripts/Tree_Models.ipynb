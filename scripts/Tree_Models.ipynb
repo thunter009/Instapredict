{
 "cells": [
  {
   "cell_type": "markdown",
   "metadata": {},
   "source": [
    "Data import and aggregation"
   ]
  },
  {
   "cell_type": "code",
   "execution_count": 3,
   "metadata": {
    "collapsed": false
   },
   "outputs": [
    {
     "data": {
      "text/plain": [
       "'3.6.1 (v3.6.1:69c0db5050, Mar 21 2017, 01:21:04) \\n[GCC 4.2.1 (Apple Inc. build 5666) (dot 3)]'"
      ]
     },
     "execution_count": 3,
     "metadata": {},
     "output_type": "execute_result"
    }
   ],
   "source": [
    "import sys\n",
    "sys.version"
   ]
  },
  {
   "cell_type": "code",
   "execution_count": 4,
   "metadata": {
    "collapsed": false
   },
   "outputs": [
    {
     "ename": "ModuleNotFoundError",
     "evalue": "No module named 'pandas'",
     "output_type": "error",
     "traceback": [
      "\u001b[0;31m---------------------------------------------------------------------------\u001b[0m",
      "\u001b[0;31mModuleNotFoundError\u001b[0m                       Traceback (most recent call last)",
      "\u001b[0;32m<ipython-input-4-c91ec801631c>\u001b[0m in \u001b[0;36m<module>\u001b[0;34m()\u001b[0m\n\u001b[0;32m----> 1\u001b[0;31m \u001b[0;32mimport\u001b[0m \u001b[0mpandas\u001b[0m \u001b[0;32mas\u001b[0m \u001b[0mpd\u001b[0m\u001b[0;34m\u001b[0m\u001b[0m\n\u001b[0m\u001b[1;32m      2\u001b[0m \u001b[0;32mimport\u001b[0m \u001b[0mnumpy\u001b[0m \u001b[0;32mas\u001b[0m \u001b[0mnp\u001b[0m\u001b[0;34m\u001b[0m\u001b[0m\n\u001b[1;32m      3\u001b[0m \u001b[0;32mimport\u001b[0m \u001b[0mpickle\u001b[0m\u001b[0;34m\u001b[0m\u001b[0m\n\u001b[1;32m      4\u001b[0m \u001b[0;34m\u001b[0m\u001b[0m\n\u001b[1;32m      5\u001b[0m \u001b[0mpath1\u001b[0m \u001b[0;34m=\u001b[0m \u001b[0;34m'/Users/arianiherrera/Desktop/NYCDataScience/InstaPredict_Capstone/image_posts_df.csv'\u001b[0m\u001b[0;34m\u001b[0m\u001b[0m\n",
      "\u001b[0;31mModuleNotFoundError\u001b[0m: No module named 'pandas'"
     ]
    }
   ],
   "source": [
    "import pandas as pd\n",
    "import numpy as np\n",
    "import pickle\n",
    "\n",
    "path1 = '/Users/arianiherrera/Desktop/NYCDataScience/InstaPredict_Capstone/image_posts_df.csv'\n",
    "path2 = '/Users/arianiherrera/Desktop/NYCDataScience/InstaPredict_Capstone/image_posts_df2_new.pickle'\n",
    "\n",
    "insta_combined_df1 = pd.read_csv(path1)\n",
    "insta_combined_df2 = pickle.load(open(path2, 'rb'))\n",
    "user_data = pd.read_csv('/Users/arianiherrera/Downloads/users.csv')\n",
    "\n",
    "print(insta_combined_df1.shape, insta_combined_df2.shape, user_data.shape)"
   ]
  },
  {
   "cell_type": "code",
   "execution_count": 3,
   "metadata": {
    "collapsed": false
   },
   "outputs": [],
   "source": [
    "input_data = insta_combined_df1.append(insta_combined_df2)\n",
    "\n",
    "input_data = input_data.loc[input_data['tag'] == 'nature']\n",
    "input_data['user'] = input_data['user'].apply(lambda x: x[1:])\n",
    "final_df = pd.merge(input_data, user_data, how='inner', left_on = 'user', right_on = 'user')"
   ]
  },
  {
   "cell_type": "code",
   "execution_count": 32,
   "metadata": {
    "collapsed": true
   },
   "outputs": [],
   "source": [
    "input_data.to_csv('/Users/arianiherrera/Desktop/NYCDataScience/InstaPredict_Capstone/full_image_posts_df.csv')"
   ]
  },
  {
   "cell_type": "code",
   "execution_count": 4,
   "metadata": {
    "collapsed": false
   },
   "outputs": [
    {
     "data": {
      "text/plain": [
       "(46264, 68)"
      ]
     },
     "execution_count": 4,
     "metadata": {},
     "output_type": "execute_result"
    }
   ],
   "source": [
    "final_df.shape"
   ]
  },
  {
   "cell_type": "code",
   "execution_count": 5,
   "metadata": {
    "collapsed": false
   },
   "outputs": [
    {
     "data": {
      "text/html": [
       "<div>\n",
       "<table border=\"1\" class=\"dataframe\">\n",
       "  <thead>\n",
       "    <tr style=\"text-align: right;\">\n",
       "      <th></th>\n",
       "      <th>B_max</th>\n",
       "      <th>B_mean</th>\n",
       "      <th>B_median</th>\n",
       "      <th>B_rms</th>\n",
       "      <th>B_stddev</th>\n",
       "      <th>B_sum</th>\n",
       "      <th>B_sum2</th>\n",
       "      <th>B_var</th>\n",
       "      <th>G_max</th>\n",
       "      <th>G_mean</th>\n",
       "      <th>...</th>\n",
       "      <th>bio</th>\n",
       "      <th>full_name</th>\n",
       "      <th>list_likes</th>\n",
       "      <th>max_likes</th>\n",
       "      <th>mean_likes</th>\n",
       "      <th>median_likes</th>\n",
       "      <th>min_likes</th>\n",
       "      <th>scrape_time_y</th>\n",
       "      <th>top_N_dic</th>\n",
       "      <th>top_N_photos</th>\n",
       "    </tr>\n",
       "  </thead>\n",
       "  <tbody>\n",
       "    <tr>\n",
       "      <th>0</th>\n",
       "      <td>255</td>\n",
       "      <td>98.992234</td>\n",
       "      <td>82</td>\n",
       "      <td>113.167626</td>\n",
       "      <td>54.840215</td>\n",
       "      <td>40547219.0</td>\n",
       "      <td>5.245711e+09</td>\n",
       "      <td>3007.449185</td>\n",
       "      <td>255</td>\n",
       "      <td>98.119165</td>\n",
       "      <td>...</td>\n",
       "      <td>– Xbox/ Cars/ Food/ Tattoos\\nNetflix/ Beer/ No...</td>\n",
       "      <td>Danny.L</td>\n",
       "      <td>[22, 13, 25, 127, 62, 120, 108, 3, 92, 2, 4, 3...</td>\n",
       "      <td>127</td>\n",
       "      <td>46.85</td>\n",
       "      <td>36.0</td>\n",
       "      <td>1</td>\n",
       "      <td>2017-03-23 14:41:07.260180</td>\n",
       "      <td>{'image': [u'https://scontent.cdninstagram.com...</td>\n",
       "      <td>{'comments': [0, 0, 2, 5, 4, 1, 2, 0, 1, 0, 0,...</td>\n",
       "    </tr>\n",
       "    <tr>\n",
       "      <th>1</th>\n",
       "      <td>255</td>\n",
       "      <td>98.992234</td>\n",
       "      <td>82</td>\n",
       "      <td>113.167626</td>\n",
       "      <td>54.840215</td>\n",
       "      <td>40547219.0</td>\n",
       "      <td>5.245711e+09</td>\n",
       "      <td>3007.449185</td>\n",
       "      <td>255</td>\n",
       "      <td>98.119165</td>\n",
       "      <td>...</td>\n",
       "      <td>– Xbox/ Cars/ Food/ Tattoos\\nNetflix/ Beer/ No...</td>\n",
       "      <td>Danny.L</td>\n",
       "      <td>[26, 19, 30, 19, 27, 127, 62, 121, 109, 3, 94,...</td>\n",
       "      <td>127</td>\n",
       "      <td>43.70</td>\n",
       "      <td>28.5</td>\n",
       "      <td>1</td>\n",
       "      <td>2017-03-23 20:28:20.863070</td>\n",
       "      <td>NaN</td>\n",
       "      <td>{'comments': [1, 1, 0, 0, 2, 5, 4, 1, 2, 0, 1,...</td>\n",
       "    </tr>\n",
       "    <tr>\n",
       "      <th>2</th>\n",
       "      <td>255</td>\n",
       "      <td>98.992234</td>\n",
       "      <td>82</td>\n",
       "      <td>113.167626</td>\n",
       "      <td>54.840215</td>\n",
       "      <td>40547219.0</td>\n",
       "      <td>5.245711e+09</td>\n",
       "      <td>3007.449185</td>\n",
       "      <td>255</td>\n",
       "      <td>98.119165</td>\n",
       "      <td>...</td>\n",
       "      <td>– Xbox/ Cars/ Food/ Tattoos\\nNetflix/ Beer/ No...</td>\n",
       "      <td>Danny.L</td>\n",
       "      <td>[5, 10, 17, 9, 24, 32, 32, 43, 71, 37, 108, 42...</td>\n",
       "      <td>113</td>\n",
       "      <td>46.20</td>\n",
       "      <td>34.5</td>\n",
       "      <td>5</td>\n",
       "      <td>2017-03-26 17:18:35.720349</td>\n",
       "      <td>NaN</td>\n",
       "      <td>{'image': ['https://scontent.cdninstagram.com/...</td>\n",
       "    </tr>\n",
       "    <tr>\n",
       "      <th>3</th>\n",
       "      <td>255</td>\n",
       "      <td>175.072593</td>\n",
       "      <td>177</td>\n",
       "      <td>176.990635</td>\n",
       "      <td>25.986001</td>\n",
       "      <td>53670254.0</td>\n",
       "      <td>9.603202e+09</td>\n",
       "      <td>675.272262</td>\n",
       "      <td>255</td>\n",
       "      <td>183.188837</td>\n",
       "      <td>...</td>\n",
       "      <td>– Xbox/ Cars/ Food/ Tattoos\\nNetflix/ Beer/ No...</td>\n",
       "      <td>Danny.L</td>\n",
       "      <td>[22, 13, 25, 127, 62, 120, 108, 3, 92, 2, 4, 3...</td>\n",
       "      <td>127</td>\n",
       "      <td>46.85</td>\n",
       "      <td>36.0</td>\n",
       "      <td>1</td>\n",
       "      <td>2017-03-23 14:41:07.260180</td>\n",
       "      <td>{'image': [u'https://scontent.cdninstagram.com...</td>\n",
       "      <td>{'comments': [0, 0, 2, 5, 4, 1, 2, 0, 1, 0, 0,...</td>\n",
       "    </tr>\n",
       "    <tr>\n",
       "      <th>4</th>\n",
       "      <td>255</td>\n",
       "      <td>175.072593</td>\n",
       "      <td>177</td>\n",
       "      <td>176.990635</td>\n",
       "      <td>25.986001</td>\n",
       "      <td>53670254.0</td>\n",
       "      <td>9.603202e+09</td>\n",
       "      <td>675.272262</td>\n",
       "      <td>255</td>\n",
       "      <td>183.188837</td>\n",
       "      <td>...</td>\n",
       "      <td>– Xbox/ Cars/ Food/ Tattoos\\nNetflix/ Beer/ No...</td>\n",
       "      <td>Danny.L</td>\n",
       "      <td>[26, 19, 30, 19, 27, 127, 62, 121, 109, 3, 94,...</td>\n",
       "      <td>127</td>\n",
       "      <td>43.70</td>\n",
       "      <td>28.5</td>\n",
       "      <td>1</td>\n",
       "      <td>2017-03-23 20:28:20.863070</td>\n",
       "      <td>NaN</td>\n",
       "      <td>{'comments': [1, 1, 0, 0, 2, 5, 4, 1, 2, 0, 1,...</td>\n",
       "    </tr>\n",
       "  </tbody>\n",
       "</table>\n",
       "<p>5 rows × 68 columns</p>\n",
       "</div>"
      ],
      "text/plain": [
       "   B_max      B_mean  B_median       B_rms   B_stddev       B_sum  \\\n",
       "0    255   98.992234        82  113.167626  54.840215  40547219.0   \n",
       "1    255   98.992234        82  113.167626  54.840215  40547219.0   \n",
       "2    255   98.992234        82  113.167626  54.840215  40547219.0   \n",
       "3    255  175.072593       177  176.990635  25.986001  53670254.0   \n",
       "4    255  175.072593       177  176.990635  25.986001  53670254.0   \n",
       "\n",
       "         B_sum2        B_var  G_max      G_mean  \\\n",
       "0  5.245711e+09  3007.449185    255   98.119165   \n",
       "1  5.245711e+09  3007.449185    255   98.119165   \n",
       "2  5.245711e+09  3007.449185    255   98.119165   \n",
       "3  9.603202e+09   675.272262    255  183.188837   \n",
       "4  9.603202e+09   675.272262    255  183.188837   \n",
       "\n",
       "                         ...                          \\\n",
       "0                        ...                           \n",
       "1                        ...                           \n",
       "2                        ...                           \n",
       "3                        ...                           \n",
       "4                        ...                           \n",
       "\n",
       "                                                 bio  full_name  \\\n",
       "0  – Xbox/ Cars/ Food/ Tattoos\\nNetflix/ Beer/ No...    Danny.L   \n",
       "1  – Xbox/ Cars/ Food/ Tattoos\\nNetflix/ Beer/ No...    Danny.L   \n",
       "2  – Xbox/ Cars/ Food/ Tattoos\\nNetflix/ Beer/ No...    Danny.L   \n",
       "3  – Xbox/ Cars/ Food/ Tattoos\\nNetflix/ Beer/ No...    Danny.L   \n",
       "4  – Xbox/ Cars/ Food/ Tattoos\\nNetflix/ Beer/ No...    Danny.L   \n",
       "\n",
       "                                          list_likes  max_likes  mean_likes  \\\n",
       "0  [22, 13, 25, 127, 62, 120, 108, 3, 92, 2, 4, 3...        127       46.85   \n",
       "1  [26, 19, 30, 19, 27, 127, 62, 121, 109, 3, 94,...        127       43.70   \n",
       "2  [5, 10, 17, 9, 24, 32, 32, 43, 71, 37, 108, 42...        113       46.20   \n",
       "3  [22, 13, 25, 127, 62, 120, 108, 3, 92, 2, 4, 3...        127       46.85   \n",
       "4  [26, 19, 30, 19, 27, 127, 62, 121, 109, 3, 94,...        127       43.70   \n",
       "\n",
       "   median_likes  min_likes               scrape_time_y  \\\n",
       "0          36.0          1  2017-03-23 14:41:07.260180   \n",
       "1          28.5          1  2017-03-23 20:28:20.863070   \n",
       "2          34.5          5  2017-03-26 17:18:35.720349   \n",
       "3          36.0          1  2017-03-23 14:41:07.260180   \n",
       "4          28.5          1  2017-03-23 20:28:20.863070   \n",
       "\n",
       "                                           top_N_dic  \\\n",
       "0  {'image': [u'https://scontent.cdninstagram.com...   \n",
       "1                                                NaN   \n",
       "2                                                NaN   \n",
       "3  {'image': [u'https://scontent.cdninstagram.com...   \n",
       "4                                                NaN   \n",
       "\n",
       "                                        top_N_photos  \n",
       "0  {'comments': [0, 0, 2, 5, 4, 1, 2, 0, 1, 0, 0,...  \n",
       "1  {'comments': [1, 1, 0, 0, 2, 5, 4, 1, 2, 0, 1,...  \n",
       "2  {'image': ['https://scontent.cdninstagram.com/...  \n",
       "3  {'comments': [0, 0, 2, 5, 4, 1, 2, 0, 1, 0, 0,...  \n",
       "4  {'comments': [1, 1, 0, 0, 2, 5, 4, 1, 2, 0, 1,...  \n",
       "\n",
       "[5 rows x 68 columns]"
      ]
     },
     "execution_count": 5,
     "metadata": {},
     "output_type": "execute_result"
    }
   ],
   "source": [
    "final_df.head()"
   ]
  },
  {
   "cell_type": "code",
   "execution_count": 6,
   "metadata": {
    "collapsed": true
   },
   "outputs": [],
   "source": [
    "# need to edit engineering file\n",
    "from sklearn.preprocessing import LabelEncoder\n",
    "from textblob import TextBlob\n",
    "le = LabelEncoder()\n",
    "final_df['filters'] = le.fit_transform(final_df['filters'])"
   ]
  },
  {
   "cell_type": "code",
   "execution_count": 7,
   "metadata": {
    "collapsed": true
   },
   "outputs": [],
   "source": [
    "final_df['num_hashtags'] = final_df.hashtags.apply(lambda x: len(x))\n",
    "final_df['hashtags'] = final_df.hashtags.apply(lambda x: ''.join(x))\n",
    "final_df['hashtag_polarity'] = final_df.hashtags.apply(lambda x: TextBlob(x).sentiment.polarity)\n",
    "final_df['hashtag_subjectivity'] = final_df.hashtags.apply(lambda x: TextBlob(x).sentiment.subjectivity)"
   ]
  },
  {
   "cell_type": "code",
   "execution_count": 8,
   "metadata": {
    "collapsed": true
   },
   "outputs": [],
   "source": [
    "feats_to_drop = ['Unnamed: 0_x', 'X1', 'caption', 'image', 'key', 'new_id', 'photo_id',\n",
    "                  'scrape_time', 'index', 'image_key', 'post_time', 'time', 'likes','Unnamed: 0',\n",
    "                 'bio', 'full_name', 'list_likes', 'top_N_dic', 'top_N_photos', 'hashtags', 'tag',\n",
    "                 'scrape_time_x','user', 'Unnamed: 0_y','scrape_time_y', 'Unnamed: 0.1', 'caption_hashtags'\n",
    "                 ]\n",
    "from sklearn.cross_validation import train_test_split\n",
    "X = final_df.drop(feats_to_drop, axis=1)\n",
    "y = final_df[['likes']]\n",
    "X_train, X_test, y_train, y_test = train_test_split(X, y, test_size=0.2, random_state=0)"
   ]
  },
  {
   "cell_type": "code",
   "execution_count": 33,
   "metadata": {
    "collapsed": false
   },
   "outputs": [
    {
     "name": "stdout",
     "output_type": "stream",
     "text": [
      "((37011, 43), (9253, 43), (37011, 1), (9253, 1))\n"
     ]
    }
   ],
   "source": [
    "X.to_csv('/Users/arianiherrera/Desktop/NYCDataScience/InstaPredict_Capstone/final_df_features.csv')\n",
    "y.to_csv('/Users/arianiherrera/Desktop/NYCDataScience/InstaPredict_Capstone/final_df_target.csv')\n",
    "\n",
    "\n",
    "print(X_train.shape, X_test.shape, y_train.shape, y_test.shape)"
   ]
  },
  {
   "cell_type": "code",
   "execution_count": 17,
   "metadata": {
    "collapsed": false
   },
   "outputs": [
    {
     "name": "stderr",
     "output_type": "stream",
     "text": [
      "/Users/arianiherrera/anaconda/lib/python2.7/site-packages/ipykernel/__main__.py:1: SettingWithCopyWarning: \n",
      "A value is trying to be set on a copy of a slice from a DataFrame\n",
      "\n",
      "See the caveats in the documentation: http://pandas.pydata.org/pandas-docs/stable/indexing.html#indexing-view-versus-copy\n",
      "  if __name__ == '__main__':\n",
      "/Users/arianiherrera/anaconda/lib/python2.7/site-packages/ipykernel/__main__.py:2: SettingWithCopyWarning: \n",
      "A value is trying to be set on a copy of a slice from a DataFrame\n",
      "\n",
      "See the caveats in the documentation: http://pandas.pydata.org/pandas-docs/stable/indexing.html#indexing-view-versus-copy\n",
      "  from ipykernel import kernelapp as app\n",
      "/Users/arianiherrera/anaconda/lib/python2.7/site-packages/pandas/core/frame.py:2762: SettingWithCopyWarning: \n",
      "A value is trying to be set on a copy of a slice from a DataFrame\n",
      "\n",
      "See the caveats in the documentation: http://pandas.pydata.org/pandas-docs/stable/indexing.html#indexing-view-versus-copy\n",
      "  downcast=downcast, **kwargs)\n"
     ]
    }
   ],
   "source": [
    "X_train.drop(['caption_hashtags'], axis=1, inplace=True)\n",
    "X_test.drop(['caption_hashtags'], axis=1, inplace=True)\n",
    "\n",
    "X_train.fillna(0, inplace=True)\n",
    "X_test.fillna(0, inplace=True)\n",
    "y_train.fillna(0, inplace=True)\n",
    "y_test.fillna(0, inplace=True)"
   ]
  },
  {
   "cell_type": "code",
   "execution_count": 18,
   "metadata": {
    "collapsed": false
   },
   "outputs": [
    {
     "name": "stdout",
     "output_type": "stream",
     "text": [
      "((37011, 43), (9253, 43), (37011, 1), (9253, 1))\n"
     ]
    }
   ],
   "source": [
    "print(X_train.shape, X_test.shape, y_train.shape, y_test.shape)"
   ]
  },
  {
   "cell_type": "code",
   "execution_count": 37,
   "metadata": {
    "collapsed": false
   },
   "outputs": [
    {
     "name": "stderr",
     "output_type": "stream",
     "text": [
      "/Users/arianiherrera/anaconda/lib/python2.7/site-packages/ipykernel/__main__.py:1: SettingWithCopyWarning: \n",
      "A value is trying to be set on a copy of a slice from a DataFrame\n",
      "\n",
      "See the caveats in the documentation: http://pandas.pydata.org/pandas-docs/stable/indexing.html#indexing-view-versus-copy\n",
      "  if __name__ == '__main__':\n",
      "/Users/arianiherrera/anaconda/lib/python2.7/site-packages/ipykernel/__main__.py:2: SettingWithCopyWarning: \n",
      "A value is trying to be set on a copy of a slice from a DataFrame\n",
      "\n",
      "See the caveats in the documentation: http://pandas.pydata.org/pandas-docs/stable/indexing.html#indexing-view-versus-copy\n",
      "  from ipykernel import kernelapp as app\n"
     ]
    }
   ],
   "source": [
    "X_train.drop(['shoutouts'], axis=1, inplace=True)\n",
    "X_test.drop(['shoutouts'], axis=1, inplace=True)"
   ]
  },
  {
   "cell_type": "code",
   "execution_count": 30,
   "metadata": {
    "collapsed": false
   },
   "outputs": [
    {
     "data": {
      "text/html": [
       "<div>\n",
       "<table border=\"1\" class=\"dataframe\">\n",
       "  <thead>\n",
       "    <tr style=\"text-align: right;\">\n",
       "      <th></th>\n",
       "      <th>num_faces</th>\n",
       "      <th>percieved_luminance</th>\n",
       "      <th>shoutouts</th>\n",
       "      <th>Followers</th>\n",
       "      <th>Following</th>\n",
       "      <th>Posts</th>\n",
       "      <th>max_likes</th>\n",
       "      <th>mean_likes</th>\n",
       "      <th>median_likes</th>\n",
       "      <th>min_likes</th>\n",
       "      <th>num_hashtags</th>\n",
       "      <th>hashtag_polarity</th>\n",
       "      <th>hashtag_subjectivity</th>\n",
       "    </tr>\n",
       "  </thead>\n",
       "  <tbody>\n",
       "    <tr>\n",
       "      <th>7477</th>\n",
       "      <td>0</td>\n",
       "      <td>1.642673e+10</td>\n",
       "      <td>0</td>\n",
       "      <td>217.0</td>\n",
       "      <td>273.0</td>\n",
       "      <td>804.0</td>\n",
       "      <td>31</td>\n",
       "      <td>12.85</td>\n",
       "      <td>14.0</td>\n",
       "      <td>1</td>\n",
       "      <td>369</td>\n",
       "      <td>0.500000</td>\n",
       "      <td>1.000000</td>\n",
       "    </tr>\n",
       "    <tr>\n",
       "      <th>18942</th>\n",
       "      <td>0</td>\n",
       "      <td>1.329852e+10</td>\n",
       "      <td>0</td>\n",
       "      <td>1433.0</td>\n",
       "      <td>494.0</td>\n",
       "      <td>152.0</td>\n",
       "      <td>258</td>\n",
       "      <td>153.95</td>\n",
       "      <td>144.0</td>\n",
       "      <td>84</td>\n",
       "      <td>285</td>\n",
       "      <td>0.250000</td>\n",
       "      <td>1.000000</td>\n",
       "    </tr>\n",
       "    <tr>\n",
       "      <th>39133</th>\n",
       "      <td>0</td>\n",
       "      <td>8.335040e+09</td>\n",
       "      <td>0</td>\n",
       "      <td>42250.0</td>\n",
       "      <td>457.0</td>\n",
       "      <td>1416.0</td>\n",
       "      <td>122</td>\n",
       "      <td>83.45</td>\n",
       "      <td>83.0</td>\n",
       "      <td>45</td>\n",
       "      <td>307</td>\n",
       "      <td>0.000000</td>\n",
       "      <td>0.000000</td>\n",
       "    </tr>\n",
       "    <tr>\n",
       "      <th>6930</th>\n",
       "      <td>0</td>\n",
       "      <td>4.188345e+09</td>\n",
       "      <td>0</td>\n",
       "      <td>485.0</td>\n",
       "      <td>274.0</td>\n",
       "      <td>239.0</td>\n",
       "      <td>150</td>\n",
       "      <td>113.75</td>\n",
       "      <td>129.0</td>\n",
       "      <td>42</td>\n",
       "      <td>371</td>\n",
       "      <td>0.371429</td>\n",
       "      <td>0.633333</td>\n",
       "    </tr>\n",
       "    <tr>\n",
       "      <th>31643</th>\n",
       "      <td>0</td>\n",
       "      <td>1.635901e+10</td>\n",
       "      <td>0</td>\n",
       "      <td>2715.0</td>\n",
       "      <td>244.0</td>\n",
       "      <td>384.0</td>\n",
       "      <td>258</td>\n",
       "      <td>169.30</td>\n",
       "      <td>164.5</td>\n",
       "      <td>116</td>\n",
       "      <td>296</td>\n",
       "      <td>0.000000</td>\n",
       "      <td>0.000000</td>\n",
       "    </tr>\n",
       "  </tbody>\n",
       "</table>\n",
       "</div>"
      ],
      "text/plain": [
       "       num_faces  percieved_luminance shoutouts  Followers  Following   Posts  \\\n",
       "7477           0         1.642673e+10         0      217.0      273.0   804.0   \n",
       "18942          0         1.329852e+10         0     1433.0      494.0   152.0   \n",
       "39133          0         8.335040e+09         0    42250.0      457.0  1416.0   \n",
       "6930           0         4.188345e+09         0      485.0      274.0   239.0   \n",
       "31643          0         1.635901e+10         0     2715.0      244.0   384.0   \n",
       "\n",
       "       max_likes  mean_likes  median_likes  min_likes  num_hashtags  \\\n",
       "7477          31       12.85          14.0          1           369   \n",
       "18942        258      153.95         144.0         84           285   \n",
       "39133        122       83.45          83.0         45           307   \n",
       "6930         150      113.75         129.0         42           371   \n",
       "31643        258      169.30         164.5        116           296   \n",
       "\n",
       "       hashtag_polarity  hashtag_subjectivity  \n",
       "7477           0.500000              1.000000  \n",
       "18942          0.250000              1.000000  \n",
       "39133          0.000000              0.000000  \n",
       "6930           0.371429              0.633333  \n",
       "31643          0.000000              0.000000  "
      ]
     },
     "execution_count": 30,
     "metadata": {},
     "output_type": "execute_result"
    }
   ],
   "source": [
    "X_train.ix[:,30:].head()"
   ]
  },
  {
   "cell_type": "code",
   "execution_count": 99,
   "metadata": {
    "collapsed": false
   },
   "outputs": [
    {
     "data": {
      "text/plain": [
       "['B_max',\n",
       " 'B_mean',\n",
       " 'B_median',\n",
       " 'B_rms',\n",
       " 'B_stddev',\n",
       " 'B_sum',\n",
       " 'B_sum2',\n",
       " 'B_var',\n",
       " 'G_max',\n",
       " 'G_mean',\n",
       " 'G_median',\n",
       " 'G_rms',\n",
       " 'G_stddev',\n",
       " 'G_sum',\n",
       " 'G_sum2',\n",
       " 'G_var',\n",
       " 'R_max',\n",
       " 'R_mean',\n",
       " 'R_median',\n",
       " 'R_rms',\n",
       " 'R_stddev',\n",
       " 'R_sum',\n",
       " 'R_sum2',\n",
       " 'R_var',\n",
       " 'blur',\n",
       " 'filters',\n",
       " 'image_height',\n",
       " 'image_width',\n",
       " 'luminance',\n",
       " 'num_faces',\n",
       " 'percieved_luminance',\n",
       " 'Followers',\n",
       " 'Following',\n",
       " 'Posts',\n",
       " 'max_likes',\n",
       " 'mean_likes',\n",
       " 'median_likes',\n",
       " 'min_likes',\n",
       " 'num_hashtags',\n",
       " 'hashtag_polarity',\n",
       " 'hashtag_subjectivity']"
      ]
     },
     "execution_count": 99,
     "metadata": {},
     "output_type": "execute_result"
    }
   ],
   "source": [
    "list(X_train)"
   ]
  },
  {
   "cell_type": "code",
   "execution_count": 88,
   "metadata": {
    "collapsed": false
   },
   "outputs": [
    {
     "name": "stderr",
     "output_type": "stream",
     "text": [
      "/Users/arianiherrera/anaconda/lib/python2.7/site-packages/ipykernel/__main__.py:1: SettingWithCopyWarning: \n",
      "A value is trying to be set on a copy of a slice from a DataFrame\n",
      "\n",
      "See the caveats in the documentation: http://pandas.pydata.org/pandas-docs/stable/indexing.html#indexing-view-versus-copy\n",
      "  if __name__ == '__main__':\n",
      "/Users/arianiherrera/anaconda/lib/python2.7/site-packages/ipykernel/__main__.py:2: SettingWithCopyWarning: \n",
      "A value is trying to be set on a copy of a slice from a DataFrame\n",
      "\n",
      "See the caveats in the documentation: http://pandas.pydata.org/pandas-docs/stable/indexing.html#indexing-view-versus-copy\n",
      "  from ipykernel import kernelapp as app\n"
     ]
    }
   ],
   "source": [
    "X_train.drop(['comments'], axis=1, inplace=True)\n",
    "X_test.drop(['comments'], axis=1, inplace=True)"
   ]
  },
  {
   "cell_type": "code",
   "execution_count": 23,
   "metadata": {
    "collapsed": true
   },
   "outputs": [],
   "source": [
    "import numpy as np\n",
    "import matplotlib.pyplot as plt\n",
    "\n",
    "from sklearn import ensemble\n",
    "from sklearn.utils import shuffle\n",
    "from sklearn.metrics import median_absolute_error\n",
    "from sklearn.cross_validation import cross_val_score\n",
    "from sklearn.cross_validation import KFold\n",
    "from sklearn.preprocessing import StandardScaler"
   ]
  },
  {
   "cell_type": "code",
   "execution_count": 89,
   "metadata": {
    "collapsed": false
   },
   "outputs": [
    {
     "name": "stderr",
     "output_type": "stream",
     "text": [
      "/Users/arianiherrera/anaconda/lib/python2.7/site-packages/sklearn/utils/validation.py:515: DataConversionWarning: A column-vector y was passed when a 1d array was expected. Please change the shape of y to (n_samples, ), for example using ravel().\n",
      "  y = column_or_1d(y, warn=True)\n"
     ]
    },
    {
     "name": "stdout",
     "output_type": "stream",
     "text": [
      "MAPE: 10.6802\n"
     ]
    },
    {
     "name": "stderr",
     "output_type": "stream",
     "text": [
      "/Users/arianiherrera/anaconda/lib/python2.7/site-packages/sklearn/utils/validation.py:515: DataConversionWarning: A column-vector y was passed when a 1d array was expected. Please change the shape of y to (n_samples, ), for example using ravel().\n",
      "  y = column_or_1d(y, warn=True)\n",
      "/Users/arianiherrera/anaconda/lib/python2.7/site-packages/sklearn/utils/validation.py:515: DataConversionWarning: A column-vector y was passed when a 1d array was expected. Please change the shape of y to (n_samples, ), for example using ravel().\n",
      "  y = column_or_1d(y, warn=True)\n",
      "/Users/arianiherrera/anaconda/lib/python2.7/site-packages/sklearn/utils/validation.py:515: DataConversionWarning: A column-vector y was passed when a 1d array was expected. Please change the shape of y to (n_samples, ), for example using ravel().\n",
      "  y = column_or_1d(y, warn=True)\n",
      "/Users/arianiherrera/anaconda/lib/python2.7/site-packages/sklearn/utils/validation.py:515: DataConversionWarning: A column-vector y was passed when a 1d array was expected. Please change the shape of y to (n_samples, ), for example using ravel().\n",
      "  y = column_or_1d(y, warn=True)\n",
      "/Users/arianiherrera/anaconda/lib/python2.7/site-packages/sklearn/utils/validation.py:515: DataConversionWarning: A column-vector y was passed when a 1d array was expected. Please change the shape of y to (n_samples, ), for example using ravel().\n",
      "  y = column_or_1d(y, warn=True)\n",
      "/Users/arianiherrera/anaconda/lib/python2.7/site-packages/sklearn/utils/validation.py:515: DataConversionWarning: A column-vector y was passed when a 1d array was expected. Please change the shape of y to (n_samples, ), for example using ravel().\n",
      "  y = column_or_1d(y, warn=True)\n",
      "/Users/arianiherrera/anaconda/lib/python2.7/site-packages/sklearn/utils/validation.py:515: DataConversionWarning: A column-vector y was passed when a 1d array was expected. Please change the shape of y to (n_samples, ), for example using ravel().\n",
      "  y = column_or_1d(y, warn=True)\n",
      "/Users/arianiherrera/anaconda/lib/python2.7/site-packages/sklearn/utils/validation.py:515: DataConversionWarning: A column-vector y was passed when a 1d array was expected. Please change the shape of y to (n_samples, ), for example using ravel().\n",
      "  y = column_or_1d(y, warn=True)\n"
     ]
    },
    {
     "name": "stdout",
     "output_type": "stream",
     "text": [
      "Standardized Results: 0.35 (0.18) MAPE\n"
     ]
    }
   ],
   "source": [
    "params = {'n_estimators': 1000, 'max_depth': 4, 'min_samples_split': 5,\n",
    "          'learning_rate': 0.005, 'loss': 'lad', 'subsample': 0.6,\n",
    "          'max_features': 'log2'\n",
    "         }\n",
    "clf = ensemble.GradientBoostingRegressor(**params)\n",
    "\n",
    "clf.fit(X_train, y_train)\n",
    "mape = median_absolute_error(y_test, clf.predict(X_test))\n",
    "print(\"MAPE: %.4f\" % mape)\n",
    "\n",
    "seed = 0\n",
    "np.random.seed(seed)\n",
    "\n",
    "kfold = KFold(n=X_train.shape[0], n_folds=8, shuffle = True, random_state = seed)\n",
    "results = cross_val_score(clf, X_train.as_matrix(), y_train.as_matrix(), cv=kfold)\n",
    "print(\"Standardized Results: %.2f (%.2f) MAPE\" % (results.mean(), results.std()))"
   ]
  },
  {
   "cell_type": "code",
   "execution_count": 43,
   "metadata": {
    "collapsed": false
   },
   "outputs": [
    {
     "data": {
      "text/plain": [
       "<matplotlib.text.Text at 0x12a99da90>"
      ]
     },
     "execution_count": 43,
     "metadata": {},
     "output_type": "execute_result"
    },
    {
     "data": {
      "image/png": "[encoded data removed]",
      "text/plain": [
       "<matplotlib.figure.Figure at 0x12a991e10>"
      ]
     },
     "metadata": {},
     "output_type": "display_data"
    }
   ],
   "source": [
    "# compute test set deviance\n",
    "%matplotlib inline\n",
    "test_score = np.zeros((params['n_estimators'],), dtype=np.float64)\n",
    "\n",
    "for i, y_pred in enumerate(clf.staged_predict(X_test)):\n",
    "    test_score[i] = clf.loss_(y_test.as_matrix(), y_pred)\n",
    "\n",
    "plt.figure(figsize=(12, 6))\n",
    "plt.subplot(1, 2, 1)\n",
    "plt.title('Deviance')\n",
    "plt.plot(np.arange(params['n_estimators']) + 1, clf.train_score_, 'b-',\n",
    "         label='Training Set Deviance')\n",
    "plt.plot(np.arange(params['n_estimators']) + 1, test_score, 'r-',\n",
    "         label='Test Set Deviance')\n",
    "plt.legend(loc='upper right')\n",
    "plt.xlabel('Boosting Iterations')\n",
    "plt.ylabel('Deviance')"
   ]
  },
  {
   "cell_type": "code",
   "execution_count": 44,
   "metadata": {
    "collapsed": false
   },
   "outputs": [
    {
     "data": {
      "image/png": "[encoded data removed]",
      "text/plain": [
       "<matplotlib.figure.Figure at 0x1052a6e50>"
      ]
     },
     "metadata": {},
     "output_type": "display_data"
    }
   ],
   "source": [
    "feature_importance = clf.feature_importances_\n",
    "# make importances relative to max importance\n",
    "feature_importance = 100.0 * (feature_importance / feature_importance.max())\n",
    "sorted_idx = np.argsort(feature_importance)\n",
    "pos = np.arange(sorted_idx.shape[0]) + .5\n",
    "plt.subplot(1, 2, 2)\n",
    "plt.barh(pos, feature_importance[sorted_idx], align='center')\n",
    "plt.yticks(pos, X_train.columns[sorted_idx])\n",
    "plt.xlabel('Relative Importance')\n",
    "plt.title('Variable Importance')\n",
    "plt.show()"
   ]
  },
  {
   "cell_type": "code",
   "execution_count": 90,
   "metadata": {
    "collapsed": false
   },
   "outputs": [],
   "source": [
    "compare = pd.DataFrame({'base_truth': y_test.as_matrix().tolist() , 'prediction': clf.predict(X_test)})"
   ]
  },
  {
   "cell_type": "code",
   "execution_count": 91,
   "metadata": {
    "collapsed": false
   },
   "outputs": [
    {
     "data": {
      "text/html": [
       "<div>\n",
       "<table border=\"1\" class=\"dataframe\">\n",
       "  <thead>\n",
       "    <tr style=\"text-align: right;\">\n",
       "      <th></th>\n",
       "      <th>base_truth</th>\n",
       "      <th>prediction</th>\n",
       "    </tr>\n",
       "  </thead>\n",
       "  <tbody>\n",
       "    <tr>\n",
       "      <th>0</th>\n",
       "      <td>7.0</td>\n",
       "      <td>18.485843</td>\n",
       "    </tr>\n",
       "    <tr>\n",
       "      <th>1</th>\n",
       "      <td>13.0</td>\n",
       "      <td>14.215015</td>\n",
       "    </tr>\n",
       "    <tr>\n",
       "      <th>2</th>\n",
       "      <td>107.0</td>\n",
       "      <td>122.922792</td>\n",
       "    </tr>\n",
       "    <tr>\n",
       "      <th>3</th>\n",
       "      <td>22.0</td>\n",
       "      <td>27.164103</td>\n",
       "    </tr>\n",
       "    <tr>\n",
       "      <th>4</th>\n",
       "      <td>35.0</td>\n",
       "      <td>27.668313</td>\n",
       "    </tr>\n",
       "    <tr>\n",
       "      <th>5</th>\n",
       "      <td>87.0</td>\n",
       "      <td>112.071586</td>\n",
       "    </tr>\n",
       "    <tr>\n",
       "      <th>6</th>\n",
       "      <td>84.0</td>\n",
       "      <td>52.852527</td>\n",
       "    </tr>\n",
       "    <tr>\n",
       "      <th>7</th>\n",
       "      <td>41.0</td>\n",
       "      <td>39.310224</td>\n",
       "    </tr>\n",
       "    <tr>\n",
       "      <th>8</th>\n",
       "      <td>34.0</td>\n",
       "      <td>38.334061</td>\n",
       "    </tr>\n",
       "    <tr>\n",
       "      <th>9</th>\n",
       "      <td>84.0</td>\n",
       "      <td>72.283321</td>\n",
       "    </tr>\n",
       "  </tbody>\n",
       "</table>\n",
       "</div>"
      ],
      "text/plain": [
       "   base_truth  prediction\n",
       "0         7.0   18.485843\n",
       "1        13.0   14.215015\n",
       "2       107.0  122.922792\n",
       "3        22.0   27.164103\n",
       "4        35.0   27.668313\n",
       "5        87.0  112.071586\n",
       "6        84.0   52.852527\n",
       "7        41.0   39.310224\n",
       "8        34.0   38.334061\n",
       "9        84.0   72.283321"
      ]
     },
     "execution_count": 91,
     "metadata": {},
     "output_type": "execute_result"
    }
   ],
   "source": [
    "compare['base_truth'] = compare.base_truth.apply(lambda x: x[0])\n",
    "\n",
    "compare.head(10)"
   ]
  },
  {
   "cell_type": "code",
   "execution_count": 92,
   "metadata": {
    "collapsed": false
   },
   "outputs": [
    {
     "data": {
      "text/html": [
       "<div>\n",
       "<table border=\"1\" class=\"dataframe\">\n",
       "  <thead>\n",
       "    <tr style=\"text-align: right;\">\n",
       "      <th></th>\n",
       "      <th>base_truth</th>\n",
       "      <th>prediction</th>\n",
       "      <th>difference</th>\n",
       "    </tr>\n",
       "  </thead>\n",
       "  <tbody>\n",
       "    <tr>\n",
       "      <th>0</th>\n",
       "      <td>7.0</td>\n",
       "      <td>18.485843</td>\n",
       "      <td>11.485843</td>\n",
       "    </tr>\n",
       "    <tr>\n",
       "      <th>1</th>\n",
       "      <td>13.0</td>\n",
       "      <td>14.215015</td>\n",
       "      <td>1.215015</td>\n",
       "    </tr>\n",
       "    <tr>\n",
       "      <th>2</th>\n",
       "      <td>107.0</td>\n",
       "      <td>122.922792</td>\n",
       "      <td>15.922792</td>\n",
       "    </tr>\n",
       "    <tr>\n",
       "      <th>3</th>\n",
       "      <td>22.0</td>\n",
       "      <td>27.164103</td>\n",
       "      <td>5.164103</td>\n",
       "    </tr>\n",
       "    <tr>\n",
       "      <th>4</th>\n",
       "      <td>35.0</td>\n",
       "      <td>27.668313</td>\n",
       "      <td>-7.331687</td>\n",
       "    </tr>\n",
       "  </tbody>\n",
       "</table>\n",
       "</div>"
      ],
      "text/plain": [
       "   base_truth  prediction  difference\n",
       "0         7.0   18.485843   11.485843\n",
       "1        13.0   14.215015    1.215015\n",
       "2       107.0  122.922792   15.922792\n",
       "3        22.0   27.164103    5.164103\n",
       "4        35.0   27.668313   -7.331687"
      ]
     },
     "execution_count": 92,
     "metadata": {},
     "output_type": "execute_result"
    }
   ],
   "source": [
    "compare['difference'] = compare['prediction'] - compare['base_truth']\n",
    "compare.head()"
   ]
  },
  {
   "cell_type": "code",
   "execution_count": 93,
   "metadata": {
    "collapsed": false
   },
   "outputs": [
    {
     "data": {
      "text/plain": [
       "31.993532763605099"
      ]
     },
     "execution_count": 93,
     "metadata": {},
     "output_type": "execute_result"
    }
   ],
   "source": [
    "compare['difference'].quantile(0.95)"
   ]
  },
  {
   "cell_type": "code",
   "execution_count": 94,
   "metadata": {
    "collapsed": false
   },
   "outputs": [
    {
     "data": {
      "text/plain": [
       "<matplotlib.axes._subplots.AxesSubplot at 0x16c9b5110>"
      ]
     },
     "execution_count": 94,
     "metadata": {},
     "output_type": "execute_result"
    },
    {
     "data": {
      "image/png": "[encoded data removed]",
      "text/plain": [
       "<matplotlib.figure.Figure at 0x14b86a550>"
      ]
     },
     "metadata": {},
     "output_type": "display_data"
    }
   ],
   "source": [
    "compare['difference'] = compare.difference.apply(lambda x: abs(x))\n",
    "compare_cap = compare.difference.apply(lambda x: min(x,2000))\n",
    "compare_cap.plot.hist(by='difference',bins=100)\n"
   ]
  },
  {
   "cell_type": "code",
   "execution_count": null,
   "metadata": {
    "collapsed": false
   },
   "outputs": [],
   "source": []
  },
  {
   "cell_type": "code",
   "execution_count": 95,
   "metadata": {
    "collapsed": true
   },
   "outputs": [],
   "source": [
    "import pickle\n",
    "model_file = '/Users/arianiherrera/Desktop/NYCDataScience/InstaPredict_Capstone/Instapredict/gbr_model.sav'\n",
    "pickle.dump(clf, open(model_file, 'wb'))"
   ]
  },
  {
   "cell_type": "code",
   "execution_count": 98,
   "metadata": {
    "collapsed": false
   },
   "outputs": [
    {
     "data": {
      "text/plain": [
       "num_hashtags            257.000000\n",
       "hashtag_polarity          0.000000\n",
       "hashtag_subjectivity      0.266667\n",
       "filters                  27.000000\n",
       "dtype: float64"
      ]
     },
     "execution_count": 98,
     "metadata": {},
     "output_type": "execute_result"
    }
   ],
   "source": [
    "X_train[['num_hashtags','hashtag_polarity','hashtag_subjectivity','filters']].median()"
   ]
  },
  {
   "cell_type": "code",
   "execution_count": null,
   "metadata": {
    "collapsed": true
   },
   "outputs": [],
   "source": []
  }
 ],
 "metadata": {
  "anaconda-cloud": {},
  "kernelspec": {
   "display_name": "Python 3",
   "language": "python",
   "name": "python3"
  },
  "language_info": {
   "codemirror_mode": {
    "name": "ipython",
    "version": 3
   },
   "file_extension": ".py",
   "mimetype": "text/x-python",
   "name": "python",
   "nbconvert_exporter": "python",
   "pygments_lexer": "ipython3",
   "version": "3.6.1"
  }
 },
 "nbformat": 4,
 "nbformat_minor": 1
}
